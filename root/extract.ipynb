{
 "cells": [
  {
   "cell_type": "markdown",
   "metadata": {},
   "source": [
    "## Import dependencies"
   ]
  },
  {
   "cell_type": "code",
   "execution_count": null,
   "metadata": {},
   "outputs": [],
   "source": [
    "from keras.preprocessing.image import *\n",
    "import numpy as np\n",
    "import matplotlib.pyplot as plt\n",
    "import os\n",
    "import random\n",
    "from glob import glob\n",
    "from model import CNN_model\n",
    "%matplotlib inline"
   ]
  },
  {
   "cell_type": "markdown",
   "metadata": {},
   "source": [
    "## Model"
   ]
  },
  {
   "cell_type": "code",
   "execution_count": null,
   "metadata": {
    "collapsed": true
   },
   "outputs": [],
   "source": [
    "model = CNN_model() # model architecture defined in model.py\n",
    "# load trained weights\n",
    "model.load_weights('weights.h5')"
   ]
  },
  {
   "cell_type": "markdown",
   "metadata": {},
   "source": [
    "## Check model performance on random images"
   ]
  },
  {
   "cell_type": "code",
   "execution_count": null,
   "metadata": {},
   "outputs": [],
   "source": [
    "img_path = random.choice(glob('WhatsApp Images/*'))\n",
    "img = load_img(img_path, target_size=(124, 124, 3)) # this is a PIL image\n",
    "x = img_to_array(img) / 255.0\n",
    "y = model.predict(np.expand_dims(x, axis=0))\n",
    "print(np.squeeze(y) > 0.5)\n",
    "img"
   ]
  },
  {
   "cell_type": "markdown",
   "metadata": {},
   "source": [
    "## Prediction"
   ]
  },
  {
   "cell_type": "code",
   "execution_count": null,
   "metadata": {
    "collapsed": true
   },
   "outputs": [],
   "source": [
    "def predict(file_path):\n",
    "    '''\n",
    "    predict whether file is a notes image\n",
    "    '''\n",
    "    img = load_img(file_path, target_size=(124, 124, 3))\n",
    "    x = img_to_array(img) / 255. \n",
    "    y = model.predict(np.expand_dims(x, axis=0))\n",
    "    return np.squeeze(y) > 0.5"
   ]
  },
  {
   "cell_type": "code",
   "execution_count": null,
   "metadata": {
    "collapsed": true
   },
   "outputs": [],
   "source": [
    "# create 'notes' folder to store extracted notes images\n",
    "if not os.path.exists('notes'):\n",
    "    os.mkdir('notes')"
   ]
  },
  {
   "cell_type": "code",
   "execution_count": null,
   "metadata": {
    "collapsed": true
   },
   "outputs": [],
   "source": [
    "# extract notes from WhatsApp Images folder\n",
    "\n",
    "files = glob('WhatsApp Images/*.*') + glob('WhatsApp Images/Sent/*.*')\n",
    "\n",
    "for file_path in files:\n",
    "    if predict(file_path): # check if the file is one of the notes\n",
    "        file_name = file_path.split('/')[-1] # get file name\n",
    "        os.rename(file_path, 'notes/' + file_name) # move the file to 'notes' folder"
   ]
  },
  {
   "cell_type": "code",
   "execution_count": null,
   "metadata": {
    "collapsed": true
   },
   "outputs": [],
   "source": []
  }
 ],
 "metadata": {
  "kernelspec": {
   "display_name": "Python [conda env:ML]",
   "language": "python",
   "name": "conda-env-ML-py"
  },
  "language_info": {
   "codemirror_mode": {
    "name": "ipython",
    "version": 3
   },
   "file_extension": ".py",
   "mimetype": "text/x-python",
   "name": "python",
   "nbconvert_exporter": "python",
   "pygments_lexer": "ipython3",
   "version": "3.5.4"
  },
  "widgets": {
   "state": {},
   "version": "1.1.2"
  }
 },
 "nbformat": 4,
 "nbformat_minor": 2
}
